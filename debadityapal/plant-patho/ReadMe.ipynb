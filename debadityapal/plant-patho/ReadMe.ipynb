{
  "nbformat": 4,
  "nbformat_minor": 0,
  "metadata": {
    "kernelspec": {
      "display_name": "Python 3.6.9 64-bit ('venv': venv)",
      "language": "python",
      "name": "python36964bitvenvvenv2f96fd8b646d44e3b9e0885369a63a85"
    },
    "language_info": {
      "codemirror_mode": {
        "name": "ipython",
        "version": 3
      },
      "file_extension": ".py",
      "mimetype": "text/x-python",
      "name": "python",
      "nbconvert_exporter": "python",
      "pygments_lexer": "ipython3",
      "version": "3.6.9"
    },
    "colab": {
      "name": "ReadMe.ipynb",
      "provenance": [],
      "collapsed_sections": []
    }
  },
  "cells": [
    {
      "cell_type": "markdown",
      "metadata": {
        "id": "myjnxdLv-z88"
      },
      "source": [
        "## Install required libraries"
      ]
    },
    {
      "cell_type": "code",
      "metadata": {
        "tags": [],
        "id": "a0CABd8s-z9B"
      },
      "source": [
        "!pip install hub\n",
        "!pip install matplotlib"
      ],
      "execution_count": null,
      "outputs": []
    },
    {
      "cell_type": "markdown",
      "metadata": {
        "id": "Ous_S3Bg_L7a"
      },
      "source": [
        "## Log in to hub\n"
      ]
    },
    {
      "cell_type": "code",
      "metadata": {
        "id": "gGZF713n_P0K"
      },
      "source": [
        "!hub login"
      ],
      "execution_count": null,
      "outputs": []
    },
    {
      "cell_type": "markdown",
      "metadata": {
        "id": "Z6GQM9y2-z9C"
      },
      "source": [
        "## Imports"
      ]
    },
    {
      "cell_type": "code",
      "metadata": {
        "id": "Kyr4JriS-z9C"
      },
      "source": [
        "import matplotlib.pyplot as plt\n",
        "import hub"
      ],
      "execution_count": null,
      "outputs": []
    },
    {
      "cell_type": "markdown",
      "metadata": {
        "id": "WkEBkSWx-z9D"
      },
      "source": [
        "## Load the dataset"
      ]
    },
    {
      "cell_type": "code",
      "metadata": {
        "id": "_ltYOKrP-z9D"
      },
      "source": [
        "ds = hub.load(\"dhiganthrao/plant-patho-hub-complete\")"
      ],
      "execution_count": null,
      "outputs": []
    },
    {
      "cell_type": "markdown",
      "metadata": {
        "id": "YYfEV5lA-z9D"
      },
      "source": [
        "## Visualize"
      ]
    },
    {
      "cell_type": "code",
      "metadata": {
        "id": "3tTU5GSA-z9D"
      },
      "source": [
        "img = ds[\"image\", 5].compute()\n",
        "label = ds['label', 5].compute(label_name=True)\n",
        "fig = plt.figure()\n",
        "plt.imshow(img)\n",
        "plt.figtext(0.5, 0.01, f\"Label: {label}\", wrap=True, horizontalalignment='center', fontsize=14)\n",
        "plt.show()"
      ],
      "execution_count": null,
      "outputs": []
    },
    {
      "cell_type": "code",
      "metadata": {
        "id": "UG0BaAtT-z9E"
      },
      "source": [
        ""
      ],
      "execution_count": null,
      "outputs": []
    }
  ]
}