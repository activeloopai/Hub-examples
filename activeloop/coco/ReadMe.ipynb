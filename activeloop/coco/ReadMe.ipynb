{
 "cells": [
  {
   "cell_type": "markdown",
   "metadata": {},
   "source": [
    "## Install required libraries"
   ]
  },
  {
   "cell_type": "code",
   "execution_count": null,
   "metadata": {
    "tags": []
   },
   "outputs": [],
   "source": [
    "!pip install hub\n",
    "!pip install matplotlib"
   ]
  },
  {
   "cell_type": "markdown",
   "metadata": {},
   "source": [
    "## Imports"
   ]
  },
  {
   "cell_type": "code",
   "execution_count": null,
   "metadata": {},
   "outputs": [],
   "source": [
    "import matplotlib.pyplot as plt\n",
    "import numpy as np\n",
    "import cv2\n",
    "import hub"
   ]
  },
  {
   "cell_type": "markdown",
   "metadata": {},
   "source": [
    "## Load the dataset"
   ]
  },
  {
   "cell_type": "code",
   "execution_count": null,
   "metadata": {},
   "outputs": [],
   "source": [
    "ds = hub.load(\"activeloop/activeloop/coco_train\")\n",
    "ds_val = hub.load(\"activeloop/coco_validation_2\")"
   ]
  },
  {
   "cell_type": "markdown",
   "metadata": {},
   "source": [
    "## Visualize"
   ]
  },
  {
   "cell_type": "code",
   "execution_count": null,
   "metadata": {},
   "outputs": [],
   "source": [
    "ds['objects', 5].compute()"
   ]
  },
  {
   "cell_type": "code",
   "execution_count": null,
   "metadata": {},
   "outputs": [],
   "source": [
    "fig = plt.figure(figsize=(8, 6))\n",
    "for n,data in enumerate(ds[:4]):\n",
    "    image = data['image'].compute() \n",
    "    instances = np.zeros(image.shape, dtype=np.uint8)\n",
    "    h, w, _ =  image.shape\n",
    "    obj = data['objects'].compute(label_name=True)\n",
    "    \n",
    "    for idx, bbox in enumerate(obj['bbox']):  \n",
    "        bbox = bbox[[1,0,3,2]]\n",
    "        bbox[0]*=w; bbox[1]*=h; bbox[2]*=w; bbox[3]*=h;\n",
    "        c = (np.random.random((1, 3))*255).tolist()[0]\n",
    "        label = str(obj['label'][idx])\n",
    "        cv2.rectangle(image, (int(bbox[0]), int(bbox[1])), (int(bbox[2]), int(bbox[3])), c, 2)\n",
    "        cv2.putText(image,label,(int(bbox[0]), int(bbox[1])),cv2.FONT_HERSHEY_PLAIN, 2.0, (255,255,255), thickness=1)\n",
    "\n",
    "    a = fig.add_subplot(2, np.ceil(4/float(2)), n + 1)\n",
    "    plt.axis('off')\n",
    "    plt.imshow(image)\n",
    "\n",
    "    fig.set_size_inches(np.array(fig.get_size_inches()) * 2)\n",
    "    plt.show()"
   ]
  },
  {
   "cell_type": "code",
   "execution_count": null,
   "metadata": {},
   "outputs": [],
   "source": []
  }
 ],
 "metadata": {
  "kernelspec": {
   "display_name": "Python 3.6.9 64-bit ('venv': venv)",
   "language": "python",
   "name": "python36964bitvenvvenv2f96fd8b646d44e3b9e0885369a63a85"
  },
  "language_info": {
   "codemirror_mode": {
    "name": "ipython",
    "version": 3
   },
   "file_extension": ".py",
   "mimetype": "text/x-python",
   "name": "python",
   "nbconvert_exporter": "python",
   "pygments_lexer": "ipython3",
   "version": "3.6.9"
  }
 },
 "nbformat": 4,
 "nbformat_minor": 2
}
